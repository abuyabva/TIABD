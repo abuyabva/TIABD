{
  "nbformat": 4,
  "nbformat_minor": 0,
  "metadata": {
    "colab": {
      "provenance": [],
      "authorship_tag": "ABX9TyOSS0yILD3B//4eafMjA64W",
      "include_colab_link": true
    },
    "kernelspec": {
      "name": "python3",
      "display_name": "Python 3"
    },
    "language_info": {
      "name": "python"
    }
  },
  "cells": [
    {
      "cell_type": "markdown",
      "metadata": {
        "id": "view-in-github",
        "colab_type": "text"
      },
      "source": [
        "<a href=\"https://colab.research.google.com/github/abuyabva/TIABD/blob/main/Pract1.ipynb\" target=\"_parent\"><img src=\"https://colab.research.google.com/assets/colab-badge.svg\" alt=\"Open In Colab\"/></a>"
      ]
    },
    {
      "cell_type": "markdown",
      "source": [
        "**№2** Написать программу, которая вычисляет площадь фигуры,\n",
        "параметры которой подаются на вход. Фигуры, которые подаются на вход:\n",
        "треугольник, прямоугольник, круг. Результатом работы является словарь, где\n",
        "ключ – это название фигуры, а значение – это площадь"
      ],
      "metadata": {
        "id": "Pu65p1oWUV_h"
      }
    },
    {
      "cell_type": "code",
      "execution_count": null,
      "metadata": {
        "colab": {
          "base_uri": "https://localhost:8080/"
        },
        "id": "w3ki1sw-TsDx",
        "outputId": "e7eb0cda-82a6-4725-b505-f2459b741f4e"
      },
      "outputs": [
        {
          "output_type": "stream",
          "name": "stdout",
          "text": [
            "Введите стороны треугольника:\n",
            "3 4 5\n",
            "Введите стороны прямоугольника:\n",
            "2 4\n",
            "Введите радиус круга:\n",
            "5\n",
            "{'Triangle': 6.0, 'Rectangle': 8, 'Circle': 78.53981633974483}\n"
          ]
        }
      ],
      "source": [
        "from math import pi\n",
        "\n",
        "figures = dict()\n",
        "\n",
        "triangle = [int(x) for x in input(\"Введите стороны треугольника:\\n\").split(' ')]\n",
        "\n",
        "p = (triangle[0] + triangle[1] + triangle[2]) / 2\n",
        "figures[\"Triangle\"] = (p * (p - triangle[0]) * (p - triangle[1]) * (p - triangle[2])) ** 0.5\n",
        "\n",
        "rectangle = [int(x) for x in input(\"Введите стороны прямоугольника:\\n\").split(' ')]\n",
        "figures[\"Rectangle\"] = rectangle[0] * rectangle[1]\n",
        "\n",
        "circle = int(input(\"Введите радиус круга:\\n\"))\n",
        "figures[\"Circle\"] = pi * circle ** 2\n",
        "\n",
        "print(figures)"
      ]
    },
    {
      "cell_type": "markdown",
      "source": [
        "**№3** Написать программу, которая на вход получает два числа и\n",
        "операцию, которую к ним нужно применить. Должны быть реализованы\n",
        "следующие операции: +, -, /, //, abs – модуль, pow или ** – возведение в\n",
        "степень."
      ],
      "metadata": {
        "id": "1kyaoc-tX9Vw"
      }
    },
    {
      "cell_type": "code",
      "source": [
        "a, b = input(\"Введите два числа:\\n\").split(' ')\n",
        "operation = input(\"Введите операцию:\\n\")\n",
        "if (operation == \"abs\"):\n",
        "  expression = \"abs(int(a)), abs(int(b))\"\n",
        "elif (operation == \"pow\"):\n",
        "  expression = \"a ** b\"\n",
        "else:\n",
        "  expression = a + operation + b\n",
        "print(f\"Результат применения операции: {eval(expression)}\")"
      ],
      "metadata": {
        "colab": {
          "base_uri": "https://localhost:8080/"
        },
        "id": "xjCa4qyIYDMK",
        "outputId": "5eb654ea-72fe-4cc9-845f-188f75ed3e9e"
      },
      "execution_count": null,
      "outputs": [
        {
          "output_type": "stream",
          "name": "stdout",
          "text": [
            "Введите два числа:\n",
            "-3 4\n",
            "Введите операцию:\n",
            "abs\n",
            "Результат применения операции: (3, 4)\n"
          ]
        }
      ]
    },
    {
      "cell_type": "markdown",
      "source": [
        "**№4** Напишите программу, которая считывает с консоли числа (по\n",
        "одному в строке) до тех пор, пока сумма введённых чисел не будет равна 0 и\n",
        "после этого выводит сумму квадратов всех считанных чисел."
      ],
      "metadata": {
        "id": "st4bEbkiaPac"
      }
    },
    {
      "cell_type": "code",
      "source": [
        "nums = []\n",
        "\n",
        "while (not nums or sum(nums) != 0):\n",
        "  nums.append(int(input(\"Введите число:\\n\")))\n",
        "\n",
        "nums = [x ** 2 for x in nums]\n",
        "print(f\"Сумма квадратов чисел: {sum(nums)}\")"
      ],
      "metadata": {
        "colab": {
          "base_uri": "https://localhost:8080/"
        },
        "id": "WJi_g4YLaUZQ",
        "outputId": "5eac2960-cf97-40cf-ee36-6cdbdc05c71d"
      },
      "execution_count": null,
      "outputs": [
        {
          "output_type": "stream",
          "name": "stdout",
          "text": [
            "Введите число:\n",
            "3\n",
            "Введите число:\n",
            "4\n",
            "Введите число:\n",
            "-7\n",
            "Сумма квадратов чисел: 74\n"
          ]
        }
      ]
    },
    {
      "cell_type": "markdown",
      "source": [
        "**№5** Напишите программу, которая выводит последовательность\n",
        "чисел, длинною N, где каждое число повторяется столько раз, чему оно равно.\n",
        "На вход программе передаётся неотрицательное целое число N. Например,\n",
        "если N = 7, то программа должна вывести 1 2 2 3 3 3 4. Вывод элементов списка\n",
        "через пробел – print(*list)."
      ],
      "metadata": {
        "id": "Mzf-XFNibuKo"
      }
    },
    {
      "cell_type": "code",
      "source": [
        "n = int(input(\"Введите число n:\\n\"))\n",
        "\n",
        "nums = []\n",
        "cur = 1\n",
        "\n",
        "while (len(nums) < n):\n",
        "  for x in range(min(cur, n - len(nums))):\n",
        "    nums.append(cur)\n",
        "  cur += 1\n",
        "\n",
        "print(*nums)"
      ],
      "metadata": {
        "colab": {
          "base_uri": "https://localhost:8080/"
        },
        "id": "HNQzwaU4bxlR",
        "outputId": "dc18bf06-84e9-494d-f043-0a2fcf3e1025"
      },
      "execution_count": null,
      "outputs": [
        {
          "output_type": "stream",
          "name": "stdout",
          "text": [
            "Введите число n:\n",
            "7\n",
            "1 2 2 3 3 3 4\n"
          ]
        }
      ]
    },
    {
      "cell_type": "markdown",
      "source": [
        "№6 Даны два списка:\n",
        "А = [1, 2, 3, 4, 2, 1, 3, 4, 5, 6, 5, 4, 3, 2]\n",
        "В = [‘a’, ’b’, ’c’, ’c’, ’c’, ’b’, ’a’, ’c’, ’a’, ’a’, ’b’, ’c’, ’b’, ’a’]\n",
        "Создать словарь, в котором ключи – это содержимое списка В, а\n",
        "значения для ключей словаря – это сумма всех элементов списка А в\n",
        "соответствии с буквой, содержащийся на той же позиции в списке В.\n",
        "Пример результата программы: {‘a’ : 10, ‘b’ : 15, ‘c’ : 6}."
      ],
      "metadata": {
        "id": "JLsILpCKc6n6"
      }
    },
    {
      "cell_type": "code",
      "source": [
        "A =  [1, 2, 3, 4, 2, 1, 3, 4, 5, 6, 5, 4, 3, 2]\n",
        "B = ['a', 'b', 'c', 'c', 'c', 'b', 'a', 'c', 'a', 'a', 'b', 'c', 'b', 'a']\n",
        "\n",
        "answer = {'a': 0, 'b': 0, 'c': 0}\n",
        "\n",
        "for i in range(len(A)):\n",
        "  answer[B[i]] += A[i]\n",
        "\n",
        "print(answer)"
      ],
      "metadata": {
        "colab": {
          "base_uri": "https://localhost:8080/"
        },
        "id": "M6edF_6TdA9D",
        "outputId": "cdbbb00c-259b-4e43-b2cc-ce81cea902b5"
      },
      "execution_count": null,
      "outputs": [
        {
          "output_type": "stream",
          "name": "stdout",
          "text": [
            "{'a': 17, 'b': 11, 'c': 17}\n"
          ]
        }
      ]
    },
    {
      "cell_type": "markdown",
      "source": [
        "**№7** Скачать и загрузить данные о стоимости домов в калифорнии,\n",
        "используя библиотеку sklearn."
      ],
      "metadata": {
        "id": "fm82N1Xgd52y"
      }
    },
    {
      "cell_type": "code",
      "source": [
        "from sklearn.datasets import fetch_california_housing\n",
        "\n",
        "data = fetch_california_housing(as_frame=True)"
      ],
      "metadata": {
        "id": "aJE41Tnvd_52"
      },
      "execution_count": null,
      "outputs": []
    },
    {
      "cell_type": "markdown",
      "source": [
        "**№8** Использовать метод info()."
      ],
      "metadata": {
        "id": "Rn-n8yjWeXTa"
      }
    },
    {
      "cell_type": "code",
      "source": [
        "import pandas as pd\n",
        "\n",
        "df = pd.DataFrame(data.data, columns=data.feature_names)\n",
        "\n",
        "print(df.info())"
      ],
      "metadata": {
        "colab": {
          "base_uri": "https://localhost:8080/"
        },
        "id": "5XoKVU47eaC5",
        "outputId": "4973a476-1f1e-4273-91cf-f7e5c4461ccd"
      },
      "execution_count": null,
      "outputs": [
        {
          "output_type": "stream",
          "name": "stdout",
          "text": [
            "<class 'pandas.core.frame.DataFrame'>\n",
            "RangeIndex: 20640 entries, 0 to 20639\n",
            "Data columns (total 8 columns):\n",
            " #   Column      Non-Null Count  Dtype  \n",
            "---  ------      --------------  -----  \n",
            " 0   MedInc      20640 non-null  float64\n",
            " 1   HouseAge    20640 non-null  float64\n",
            " 2   AveRooms    20640 non-null  float64\n",
            " 3   AveBedrms   20640 non-null  float64\n",
            " 4   Population  20640 non-null  float64\n",
            " 5   AveOccup    20640 non-null  float64\n",
            " 6   Latitude    20640 non-null  float64\n",
            " 7   Longitude   20640 non-null  float64\n",
            "dtypes: float64(8)\n",
            "memory usage: 1.3 MB\n",
            "None\n"
          ]
        }
      ]
    },
    {
      "cell_type": "markdown",
      "source": [
        "**№9** Узнать, есть ли пропущенные значения, используя isna().sum()."
      ],
      "metadata": {
        "id": "2brthCTNe6x0"
      }
    },
    {
      "cell_type": "code",
      "source": [
        "print(df.isna().sum())"
      ],
      "metadata": {
        "colab": {
          "base_uri": "https://localhost:8080/"
        },
        "id": "DM_9wmo9fBNQ",
        "outputId": "9158fead-f9e9-495e-d7e2-a5e5b7c0bc6a"
      },
      "execution_count": null,
      "outputs": [
        {
          "output_type": "stream",
          "name": "stdout",
          "text": [
            "MedInc        0\n",
            "HouseAge      0\n",
            "AveRooms      0\n",
            "AveBedrms     0\n",
            "Population    0\n",
            "AveOccup      0\n",
            "Latitude      0\n",
            "Longitude     0\n",
            "dtype: int64\n"
          ]
        }
      ]
    },
    {
      "cell_type": "markdown",
      "source": [
        "№10 Вывести записи, где средний возраст домов в районе более 50 лет и\n",
        "население более 2500 человек, используя метод loc()."
      ],
      "metadata": {
        "id": "pwfBrfOXfWhy"
      }
    },
    {
      "cell_type": "code",
      "source": [
        "print(df.loc[(df['HouseAge'] > 50) & (df['Population'] > 2500)])"
      ],
      "metadata": {
        "colab": {
          "base_uri": "https://localhost:8080/"
        },
        "id": "Q6mhpOkQfZJV",
        "outputId": "f0e8a7af-23eb-4ebd-cdb6-b8e561ad9163"
      },
      "execution_count": null,
      "outputs": [
        {
          "output_type": "stream",
          "name": "stdout",
          "text": [
            "       MedInc  HouseAge  AveRooms  AveBedrms  Population    AveOccup  \\\n",
            "460    1.4012      52.0  3.105714   1.060000      3337.0    9.534286   \n",
            "4131   3.5349      52.0  4.646119   1.047945      2589.0    5.910959   \n",
            "4440   2.6806      52.0  4.806283   1.057592      3062.0    4.007853   \n",
            "5986   1.8750      52.0  4.500000   1.206349      2688.0   21.333333   \n",
            "7369   3.1901      52.0  4.730942   1.017937      3731.0    4.182735   \n",
            "8227   2.3305      52.0  3.488860   1.170380      3018.0    3.955439   \n",
            "13034  6.1359      52.0  8.275862   1.517241      6675.0  230.172414   \n",
            "15634  1.8295      52.0  2.628169   1.053521      2957.0    4.164789   \n",
            "15652  0.9000      52.0  2.237474   1.053535      3260.0    2.237474   \n",
            "15657  2.5166      52.0  2.839075   1.184049      3436.0    1.621520   \n",
            "15659  1.7240      52.0  2.278566   1.082348      4518.0    1.780142   \n",
            "15795  2.5755      52.0  3.402576   1.058776      2619.0    2.108696   \n",
            "15868  2.8135      52.0  4.584329   1.041169      2987.0    3.966799   \n",
            "\n",
            "       Latitude  Longitude  \n",
            "460       37.87    -122.26  \n",
            "4131      34.13    -118.20  \n",
            "4440      34.08    -118.21  \n",
            "5986      34.10    -117.71  \n",
            "7369      33.97    -118.21  \n",
            "8227      33.78    -118.20  \n",
            "13034     38.69    -121.15  \n",
            "15634     37.80    -122.41  \n",
            "15652     37.80    -122.41  \n",
            "15657     37.79    -122.41  \n",
            "15659     37.79    -122.41  \n",
            "15795     37.77    -122.42  \n",
            "15868     37.76    -122.41  \n"
          ]
        }
      ]
    },
    {
      "cell_type": "markdown",
      "source": [
        "**№11** Узнать максимальное и минимальное значения медианной\n",
        "стоимости дома."
      ],
      "metadata": {
        "id": "t26S4ubSgq3J"
      }
    },
    {
      "cell_type": "code",
      "source": [
        "print(f\"Минимальная значение медианной стоимости дома: {df['MedInc'].min()}\")\n",
        "print(f\"Максиммальное значение медианной стоимости дома: {df['MedInc'].max()}\")"
      ],
      "metadata": {
        "colab": {
          "base_uri": "https://localhost:8080/"
        },
        "id": "-gEpZziqgwko",
        "outputId": "fe2dd46f-2a61-4486-f72e-7e0614b4174b"
      },
      "execution_count": null,
      "outputs": [
        {
          "output_type": "stream",
          "name": "stdout",
          "text": [
            "Минимальная значение медианной стоимости дома: 0.4999\n",
            "Максиммальное значение медианной стоимости дома: 15.0001\n"
          ]
        }
      ]
    },
    {
      "cell_type": "markdown",
      "source": [
        "**№12** Используя метод apply(), вывести на экран название признака и его\n",
        "среднее значение."
      ],
      "metadata": {
        "id": "UvG06CJ1hWX8"
      }
    },
    {
      "cell_type": "code",
      "source": [
        "print(df.apply(lambda x: f\"{x.name}: {x.mean()}\"))"
      ],
      "metadata": {
        "colab": {
          "base_uri": "https://localhost:8080/"
        },
        "id": "lmZst618hYU0",
        "outputId": "dae89b6f-e867-45e6-a2ee-fa5b339fa6c9"
      },
      "execution_count": null,
      "outputs": [
        {
          "output_type": "stream",
          "name": "stdout",
          "text": [
            "MedInc            MedInc: 3.8706710029069766\n",
            "HouseAge        HouseAge: 28.639486434108527\n",
            "AveRooms         AveRooms: 5.428999742190376\n",
            "AveBedrms       AveBedrms: 1.096675149606208\n",
            "Population    Population: 1425.4767441860465\n",
            "AveOccup        AveOccup: 3.0706551594363742\n",
            "Latitude         Latitude: 35.63186143410853\n",
            "Longitude     Longitude: -119.56970445736432\n",
            "dtype: object\n"
          ]
        }
      ]
    }
  ]
}